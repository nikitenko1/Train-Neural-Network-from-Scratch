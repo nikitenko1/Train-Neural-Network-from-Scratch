{
 "cells": [
  {
   "cell_type": "markdown",
   "id": "55e01953",
   "metadata": {},
   "source": [
    "<p style=\"font-family:Consolas; font-size: 28px; color: magenta\">  Linear Algebra</p>\n",
    "<p style=\"font-family:Consolas; font-size: 28px; color: lightgreen\"> | Vector, Transformation, Span, Basis</p>"
   ]
  },
  {
   "cell_type": "code",
   "execution_count": null,
   "id": "24fd45b6",
   "metadata": {},
   "outputs": [],
   "source": [
    " "
   ]
  },
  {
   "cell_type": "markdown",
   "id": "db051734",
   "metadata": {},
   "source": [
    "<p style=\"font-family:Roboto; font-size: 22px; color: orange; text-decoration-line: overline; \"> Part: _Data Preprocessing and load data</p>    "
   ]
  }
 ],
 "metadata": {
  "kernelspec": {
   "display_name": "base",
   "language": "python",
   "name": "python3"
  },
  "language_info": {
   "codemirror_mode": {
    "name": "ipython",
    "version": 3
   },
   "file_extension": ".py",
   "mimetype": "text/x-python",
   "name": "python",
   "nbconvert_exporter": "python",
   "pygments_lexer": "ipython3",
   "version": "3.12.7"
  }
 },
 "nbformat": 4,
 "nbformat_minor": 5
}
